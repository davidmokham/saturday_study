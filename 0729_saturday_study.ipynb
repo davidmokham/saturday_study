{
 "cells": [
  {
   "cell_type": "markdown",
   "metadata": {},
   "source": [
    "## 0729_Saterday_Study"
   ]
  },
  {
   "cell_type": "markdown",
   "metadata": {},
   "source": [
    "##### When and What I've done so far"
   ]
  },
  {
   "cell_type": "markdown",
   "metadata": {},
   "source": [
    "- 14:00 - 18:00 29th July, 2017 @ Starbucks Ichon, Seoul, Korea"
   ]
  },
  {
   "cell_type": "markdown",
   "metadata": {},
   "source": [
    "##### Things to do today"
   ]
  },
  {
   "cell_type": "markdown",
   "metadata": {},
   "source": [
    "- Get solved Helloworld Misson (Hide Phone Numbers)\n",
    "\n",
    "\n",
    "- Revision [Python - Class] "
   ]
  },
  {
   "cell_type": "markdown",
   "metadata": {},
   "source": [
    "### Helloworld - Hide Phone Numbers"
   ]
  },
  {
   "cell_type": "code",
   "execution_count": 212,
   "metadata": {},
   "outputs": [
    {
     "name": "stdout",
     "output_type": "stream",
     "text": [
      "결과 : *******4444\n"
     ]
    }
   ],
   "source": [
    "def hide_numbers(s):\n",
    "    #함수를 완성해 별이를 도와주세요\n",
    "    a = '*' * (len(s)-4) + s[-4:]\n",
    "    return a\n",
    "\n",
    "# 아래는 테스트로 출력해 보기 위한 코드입니다.\n",
    "print(\"결과 : \" + hide_numbers('01033334444'));"
   ]
  },
  {
   "cell_type": "code",
   "execution_count": 213,
   "metadata": {},
   "outputs": [
    {
     "name": "stdout",
     "output_type": "stream",
     "text": [
      "결과 : *******4444\n"
     ]
    }
   ],
   "source": [
    "def hide_numbers(s):\n",
    "    a = '*' * (len(s)-4) + s[-4:]\n",
    "    return a\n",
    "\n",
    "print(\"결과 : \" + hide_numbers('01033334444'))"
   ]
  },
  {
   "cell_type": "markdown",
   "metadata": {},
   "source": [
    "### Class Practice"
   ]
  },
  {
   "cell_type": "markdown",
   "metadata": {},
   "source": [
    "#### Realization - A bbbbbasic Calculator"
   ]
  },
  {
   "cell_type": "code",
   "execution_count": 2,
   "metadata": {},
   "outputs": [
    {
     "name": "stdout",
     "output_type": "stream",
     "text": [
      "3\n",
      "7\n",
      "12\n"
     ]
    }
   ],
   "source": [
    "result = 0\n",
    "\n",
    "def adder(num):\n",
    "    global result\n",
    "    result += num\n",
    "    return result\n",
    "\n",
    "print(adder(3))\n",
    "print(adder(4))\n",
    "print(adder(5))"
   ]
  },
  {
   "cell_type": "markdown",
   "metadata": {},
   "source": [
    "#### Double-Calculator"
   ]
  },
  {
   "cell_type": "code",
   "execution_count": 3,
   "metadata": {},
   "outputs": [
    {
     "name": "stdout",
     "output_type": "stream",
     "text": [
      "3\n",
      "7\n",
      "3\n",
      "10\n"
     ]
    }
   ],
   "source": [
    "result1 = 0\n",
    "result2 = 0\n",
    "\n",
    "# 1번 계산기\n",
    "def adder1(num):\n",
    "    global result1\n",
    "    result1 += num\n",
    "    return result1\n",
    "\n",
    "# 2번 계산기\n",
    "def adder2(num):\n",
    "    global result2\n",
    "    result2 += num\n",
    "    return result2\n",
    "\n",
    "print(adder1(3))\n",
    "print(adder1(4))\n",
    "print(adder2(3))\n",
    "print(adder2(7))"
   ]
  },
  {
   "cell_type": "markdown",
   "metadata": {},
   "source": [
    "#### Class Calculator"
   ]
  },
  {
   "cell_type": "code",
   "execution_count": 215,
   "metadata": {},
   "outputs": [
    {
     "name": "stdout",
     "output_type": "stream",
     "text": [
      "3\n",
      "7\n",
      "3\n",
      "10\n",
      "5\n",
      "5\n"
     ]
    }
   ],
   "source": [
    "class Calculator:\n",
    "    def __init__(self):\n",
    "        self.result = 0\n",
    "        \n",
    "    def adder(self, num):\n",
    "        self.result += num\n",
    "        return self.result\n",
    "    \n",
    "    def sub(self, num):\n",
    "        self.result -= num\n",
    "        return self.result\n",
    "    \n",
    "cal1 = Calculator()\n",
    "cal2 = Calculator()\n",
    "\n",
    "print(cal1.adder(3))\n",
    "print(cal1.adder(4))\n",
    "print(cal2.adder(3))\n",
    "print(cal2.adder(7))\n",
    "print(cal1.sub(2))\n",
    "print(cal2.sub(5))\n",
    "\n",
    "# got printed out the same results!"
   ]
  },
  {
   "cell_type": "code",
   "execution_count": 13,
   "metadata": {
    "collapsed": true
   },
   "outputs": [],
   "source": [
    "class programmer:\n",
    "    pass"
   ]
  },
  {
   "cell_type": "code",
   "execution_count": 15,
   "metadata": {
    "collapsed": true
   },
   "outputs": [],
   "source": [
    "kim = programmer()\n",
    "park = programmer()"
   ]
  },
  {
   "cell_type": "code",
   "execution_count": 98,
   "metadata": {
    "collapsed": true
   },
   "outputs": [],
   "source": [
    "class Service:\n",
    "    secret = '영구는 외계인이다'\n",
    "    def __init__(self, name):\n",
    "        self.name = name\n",
    "    def sum(self, a, b):\n",
    "        self.result = a + b\n",
    "        print(\"%s님 %s + %s = %s입니다.\" % (self.name, a, b, self.result))"
   ]
  },
  {
   "cell_type": "code",
   "execution_count": 94,
   "metadata": {},
   "outputs": [
    {
     "name": "stdout",
     "output_type": "stream",
     "text": [
      "목진규님 1 + 1 = 2입니다.\n"
     ]
    }
   ],
   "source": [
    "pey = Service('목진규')\n",
    "pey.sum(1, 1)"
   ]
  },
  {
   "cell_type": "code",
   "execution_count": 85,
   "metadata": {
    "collapsed": true
   },
   "outputs": [],
   "source": [
    "kwon = Service()\n",
    "mok = Service()\n",
    "\n",
    "kwon.name = '권수환'\n",
    "mok.name = '목진규'"
   ]
  },
  {
   "cell_type": "code",
   "execution_count": 88,
   "metadata": {},
   "outputs": [
    {
     "name": "stdout",
     "output_type": "stream",
     "text": [
      "권수환\n",
      "목진규\n"
     ]
    }
   ],
   "source": [
    "print(kwon.name)\n",
    "print(mok.name)"
   ]
  },
  {
   "cell_type": "code",
   "execution_count": 81,
   "metadata": {},
   "outputs": [
    {
     "name": "stdout",
     "output_type": "stream",
     "text": [
      "홍길동님 1 + 1 = 2입니다.\n"
     ]
    }
   ],
   "source": [
    "pey = Service()\n",
    "pey.setname('홍길동')\n",
    "pey.sum(1, 1)"
   ]
  },
  {
   "cell_type": "code",
   "execution_count": 82,
   "metadata": {},
   "outputs": [
    {
     "name": "stdout",
     "output_type": "stream",
     "text": [
      "김장훈님 1 + 2 = 3입니다.\n"
     ]
    }
   ],
   "source": [
    "pey = Service()\n",
    "pey.setname('김장훈')\n",
    "pey.sum(1, 2)"
   ]
  },
  {
   "cell_type": "markdown",
   "metadata": {},
   "source": [
    "사람은 졸면 안 돼."
   ]
  },
  {
   "cell_type": "code",
   "execution_count": 70,
   "metadata": {},
   "outputs": [
    {
     "name": "stdout",
     "output_type": "stream",
     "text": [
      "1 + 1 = 2입니다.\n"
     ]
    }
   ],
   "source": [
    "pey = Service()\n",
    "Service.sum(pey, 1, 1)"
   ]
  },
  {
   "cell_type": "code",
   "execution_count": 73,
   "metadata": {},
   "outputs": [
    {
     "name": "stdout",
     "output_type": "stream",
     "text": [
      "1 + 1 = 2입니다.\n"
     ]
    }
   ],
   "source": [
    "pey.sum(1, 1)"
   ]
  },
  {
   "cell_type": "markdown",
   "metadata": {},
   "source": [
    "#### 사칙연산 클라스 만들기"
   ]
  },
  {
   "cell_type": "code",
   "execution_count": 101,
   "metadata": {},
   "outputs": [],
   "source": [
    "class FourCal:\n",
    "    def __init__(self, name):\n",
    "        self.name = name\n",
    "        \n",
    "    def plus(self, a, b):\n",
    "        self.result = a + b\n",
    "        print('%s님 %s + %s = %s 입니다.' % (self.name, a, b, self.result))\n",
    "        \n",
    "    def minus(self, a, b):\n",
    "        self.result = a - b\n",
    "        print('%s님 %s + %s = %s 입니다.' % (self.name, a, b, self.result))\n",
    "        \n",
    "    def multiple(self, a, b):\n",
    "        self.result = a * b\n",
    "        print('%s님 %s + %s = %s 입니다.' % (self.name, a, b, self.result))\n",
    "        \n",
    "    def divide(self, a, b):\n",
    "        self.result = a / b\n",
    "        print('%s님 %s + %s = %s 입니다.' % (self.name, a, b, self.result))\n",
    "        \n",
    "    "
   ]
  },
  {
   "cell_type": "code",
   "execution_count": 107,
   "metadata": {},
   "outputs": [
    {
     "name": "stdout",
     "output_type": "stream",
     "text": [
      "목진규님 10 + 10 = 20 입니다.\n",
      "목진규님 20 + 10 = 10 입니다.\n",
      "목진규님 10 + 10 = 100 입니다.\n",
      "목진규님 100 + 10 = 10.0 입니다.\n"
     ]
    }
   ],
   "source": [
    "jinkyu = FourCal('목진규')\n",
    "\n",
    "jinkyu.plus(10, 10)\n",
    "jinkyu.minus(20, 10)\n",
    "jinkyu.multiple(10, 10)\n",
    "jinkyu.divide(100, 10)"
   ]
  },
  {
   "cell_type": "markdown",
   "metadata": {},
   "source": [
    "#### Calculator one more time!"
   ]
  },
  {
   "cell_type": "code",
   "execution_count": 122,
   "metadata": {
    "collapsed": true
   },
   "outputs": [],
   "source": [
    "class NewCalculator:\n",
    "    def setdata(self, first, second): # 데이터 세팅 및 담아두는 기능\n",
    "        self.first = first\n",
    "        self.second = second\n",
    "        \n",
    "    def plus(self):\n",
    "        result = self.first + self.second\n",
    "        return result\n",
    "    \n",
    "    def minus(self):\n",
    "        result = self.first - self.second\n",
    "        return result\n",
    "    \n",
    "    def multiple(self):\n",
    "        result = self.first * self.second\n",
    "        return result\n",
    "    \n",
    "    def division(self):\n",
    "        result = self.first / self.second\n",
    "        return result"
   ]
  },
  {
   "cell_type": "code",
   "execution_count": 123,
   "metadata": {
    "collapsed": true
   },
   "outputs": [],
   "source": [
    "a = NewCalculator()\n",
    "b = NewCalculator()"
   ]
  },
  {
   "cell_type": "code",
   "execution_count": 124,
   "metadata": {
    "collapsed": true
   },
   "outputs": [],
   "source": [
    "a.setdata(10, 5)\n",
    "b.setdata(4, 2)"
   ]
  },
  {
   "cell_type": "code",
   "execution_count": 134,
   "metadata": {},
   "outputs": [
    {
     "name": "stdout",
     "output_type": "stream",
     "text": [
      "(15, 5, 50, 2.0) (6, 2, 8, 2.0)\n"
     ]
    }
   ],
   "source": [
    "print_a = a.plus(), a.minus(), a.multiple(), a.division()\n",
    "print_b = b.plus(), b.minus(), b.multiple(), b.division()\n",
    "\n",
    "print(print_a, print_b)"
   ]
  },
  {
   "cell_type": "code",
   "execution_count": 141,
   "metadata": {
    "collapsed": true
   },
   "outputs": [],
   "source": [
    "import numpy as np\n",
    "import pandas as pd"
   ]
  },
  {
   "cell_type": "markdown",
   "metadata": {},
   "source": [
    "#### Park's House(Inheritance) & Kim's House(Overriding)"
   ]
  },
  {
   "cell_type": "code",
   "execution_count": 203,
   "metadata": {},
   "outputs": [],
   "source": [
    "class HousePark:\n",
    "    lastname = '박'  # 자동 세팅\n",
    "    \n",
    "    def __init__(self, name):\n",
    "        self.fullname = self.lastname + name\n",
    "        \n",
    "    def travel(self, where):\n",
    "        print('%s, %s여행을 가다' % (self.fullname, where))\n",
    "        \n",
    "    def __add__(self, other):\n",
    "        print('%s, %s 결혼했네.' % (self.fullname, other.fullname))\n",
    "        \n",
    "    def __sub__(self, other):\n",
    "        print('%s, %s 헤어졌네.' % (self.fullname, other.fullname))\n",
    "        \n",
    "class HouseKim(HousePark):\n",
    "    lastname = '김'\n",
    "    \n",
    "    def travel(self, where):\n",
    "        print('%s는 %s로 여행합니다.' % (self.fullname, where))"
   ]
  },
  {
   "cell_type": "code",
   "execution_count": 208,
   "metadata": {
    "scrolled": true
   },
   "outputs": [
    {
     "name": "stdout",
     "output_type": "stream",
     "text": [
      "박진규, 런던여행을 가다\n",
      "김쥴리엣는 파리로 여행합니다.\n",
      "박진규, 김쥴리엣 결혼했네.\n",
      "박진규, 김쥴리엣 헤어졌네.\n"
     ]
    }
   ],
   "source": [
    "jinkyu = HousePark('진규')\n",
    "juliet = HouseKim('쥴리엣')\n",
    "\n",
    "jinkyu.travel('런던')\n",
    "juliet.travel('파리')\n",
    "\n",
    "jinkyu + juliet\n",
    "jinkyu - juliet"
   ]
  },
  {
   "cell_type": "code",
   "execution_count": null,
   "metadata": {
    "collapsed": true
   },
   "outputs": [],
   "source": []
  },
  {
   "cell_type": "code",
   "execution_count": null,
   "metadata": {
    "collapsed": true
   },
   "outputs": [],
   "source": []
  }
 ],
 "metadata": {
  "kernelspec": {
   "display_name": "Python 3",
   "language": "python",
   "name": "python3"
  },
  "language_info": {
   "codemirror_mode": {
    "name": "ipython",
    "version": 3
   },
   "file_extension": ".py",
   "mimetype": "text/x-python",
   "name": "python",
   "nbconvert_exporter": "python",
   "pygments_lexer": "ipython3",
   "version": "3.6.2rc1"
  }
 },
 "nbformat": 4,
 "nbformat_minor": 2
}
